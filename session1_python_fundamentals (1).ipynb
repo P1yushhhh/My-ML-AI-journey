{
  "nbformat": 4,
  "nbformat_minor": 0,
  "metadata": {
    "colab": {
      "provenance": []
    },
    "kernelspec": {
      "name": "python3",
      "display_name": "Python 3"
    },
    "language_info": {
      "name": "python"
    }
  },
  "cells": [
    {
      "cell_type": "markdown",
      "source": [
        "# 1. Python Output\n"
      ],
      "metadata": {
        "id": "BgRlZaCRDrL1"
      }
    },
    {
      "cell_type": "code",
      "execution_count": null,
      "metadata": {
        "colab": {
          "base_uri": "https://localhost:8080/"
        },
        "id": "cMjhqJmVDLEv",
        "outputId": "727ebd3c-b98e-43c0-835b-e5b486c65d8d"
      },
      "outputs": [
        {
          "output_type": "stream",
          "name": "stdout",
          "text": [
            "Hello World\n",
            "7\n",
            "True\n",
            "Hello 1 4.5 True\n",
            "Hello/1/4.5/True\n",
            "hello\n",
            "world\n",
            "hello-world\n"
          ]
        }
      ],
      "source": [
        "# Python is a case sensitive language\n",
        "print('Hello World')\n",
        "\n",
        "print(7)\n",
        "\n",
        "print(True)\n",
        "\n",
        "print('Hello',1,4.5,True)\n",
        "\n",
        "print('Hello',1,4.5,True,sep='/')\n",
        "\n",
        "print('hello')\n",
        "print('world')\n",
        "\n",
        "print('hello',end='-')\n",
        "print('world')"
      ]
    },
    {
      "cell_type": "markdown",
      "source": [
        "# 2. Data Types"
      ],
      "metadata": {
        "id": "NLy9mCDUD9_6"
      }
    },
    {
      "cell_type": "code",
      "source": [
        "# Integer\n",
        "print(8)\n",
        "# 1*10^308\n",
        "print(1e309)\n",
        "# Decimal/Float\n",
        "print(8.55)\n",
        "print(1.7e309)\n",
        "# Boolean\n",
        "print(True)\n",
        "print(False)\n",
        "# Text/String\n",
        "print('Hello World')\n",
        "# complex\n",
        "print(5+6j)\n",
        "# List-> C-> Array\n",
        "print([1,2,3,4,5])\n",
        "# Tuple\n",
        "print((1,2,3,4,5))\n",
        "# Sets\n",
        "print({1,2,3,4,5})\n",
        "# Dictionary\n",
        "print({'name':'Piyush','gender':'Male','weight':90})\n",
        "# type\n",
        "type([1,2,3])"
      ],
      "metadata": {
        "colab": {
          "base_uri": "https://localhost:8080/"
        },
        "id": "O7a2FqhCDWdj",
        "outputId": "14971759-cbd9-45a3-cf3b-f6bd1b64a10c"
      },
      "execution_count": null,
      "outputs": [
        {
          "output_type": "stream",
          "name": "stdout",
          "text": [
            "8\n",
            "inf\n",
            "8.55\n",
            "inf\n",
            "True\n",
            "False\n",
            "Hello World\n",
            "(5+6j)\n",
            "[1, 2, 3, 4, 5]\n",
            "(1, 2, 3, 4, 5)\n",
            "{1, 2, 3, 4, 5}\n",
            "{'name': 'Piyush', 'gender': 'Male', 'weight': 90}\n"
          ]
        },
        {
          "output_type": "execute_result",
          "data": {
            "text/plain": [
              "list"
            ]
          },
          "metadata": {},
          "execution_count": 4
        }
      ]
    },
    {
      "cell_type": "markdown",
      "source": [
        "# 3. Variables\n"
      ],
      "metadata": {
        "id": "1NkrwOZ7HAVD"
      }
    },
    {
      "cell_type": "code",
      "source": [
        "# Static Vs Dynamic Typing\n",
        "# Static Vs Dynamic Binding\n",
        "# stylish declaration techniques\n",
        "\n",
        "# C/C++\n",
        "name = 'piyush'\n",
        "print(name)\n",
        "\n",
        "a = 5\n",
        "b = 6\n",
        "\n",
        "# Dynamic Typing\n",
        "a = 5\n",
        "# Static Typing\n",
        "# int b = 5  # This is not valid Python syntax.  In Python, type annotations are used but don't enforce types at runtime.\n",
        "b = 5\n",
        "\n",
        "# Dynamic Binding\n",
        "a = 5\n",
        "print(a)\n",
        "a = 'piyush'\n",
        "print(a)\n",
        "\n",
        "# Static Binding\n",
        "# int a = 5"
      ],
      "metadata": {
        "colab": {
          "base_uri": "https://localhost:8080/"
        },
        "id": "Dsx_1YXgHEO2",
        "outputId": "6b4594f2-68e9-4978-befd-239307850856"
      },
      "execution_count": null,
      "outputs": [
        {
          "output_type": "stream",
          "name": "stdout",
          "text": [
            "piyush\n",
            "5\n",
            "nitish\n"
          ]
        }
      ]
    },
    {
      "cell_type": "markdown",
      "source": [
        "# 4. Keywords & Identifiers"
      ],
      "metadata": {
        "id": "gOcIs9knNYhf"
      }
    },
    {
      "cell_type": "code",
      "source": [
        "# Identifiers\n",
        "# You can't start with a digit\n",
        "name1 = 'piyush'\n",
        "print(name1)\n",
        "# You can use special chars -> _\n",
        "_ = 'piyush'\n",
        "print(_)\n",
        "# identiers can not be keyword"
      ],
      "metadata": {
        "colab": {
          "base_uri": "https://localhost:8080/"
        },
        "id": "vCEPjIwoNHaM",
        "outputId": "533e595a-5622-4268-f88a-95e8b1481687"
      },
      "execution_count": null,
      "outputs": [
        {
          "output_type": "stream",
          "name": "stdout",
          "text": [
            "piyush\n",
            "piyush\n"
          ]
        }
      ]
    },
    {
      "cell_type": "markdown",
      "source": [
        "# 5. User Input"
      ],
      "metadata": {
        "id": "r67s7u8qDnwM"
      }
    },
    {
      "cell_type": "code",
      "source": [
        "# Static Vs Dynamic\n",
        "input('Enter Email: ')"
      ],
      "metadata": {
        "colab": {
          "base_uri": "https://localhost:8080/",
          "height": 53
        },
        "id": "50hSq1NvNdbS",
        "outputId": "de7e2f1a-74fc-4ab6-c479-477be1885f87"
      },
      "execution_count": null,
      "outputs": [
        {
          "name": "stdout",
          "output_type": "stream",
          "text": [
            "Enter Email: piyush.chawla@aiesec.net\n"
          ]
        },
        {
          "output_type": "execute_result",
          "data": {
            "text/plain": [
              "'piyush.chawla@aiesec.net'"
            ],
            "application/vnd.google.colaboratory.intrinsic+json": {
              "type": "string"
            }
          },
          "metadata": {},
          "execution_count": 12
        }
      ]
    },
    {
      "cell_type": "code",
      "source": [
        "# take input from users and store them in a variable\n",
        "fnum = int(input('enter first number'))\n",
        "snum = int(input('enter second number'))\n",
        "print(type(fnum),type(snum))\n",
        "# add the 2 variables\n",
        "result = fnum + snum\n",
        "# print the result\n",
        "print(result)\n",
        "print(type(fnum))"
      ],
      "metadata": {
        "colab": {
          "base_uri": "https://localhost:8080/"
        },
        "id": "pdo_Nm1mNr5U",
        "outputId": "c0791ce3-f339-4912-d24d-3923498a5b81"
      },
      "execution_count": null,
      "outputs": [
        {
          "output_type": "stream",
          "name": "stdout",
          "text": [
            "enter first number 1\n",
            "enter second number 2\n",
            "<class 'int'> <class 'int'>\n",
            "3\n",
            "<class 'int'>\n"
          ]
        }
      ]
    },
    {
      "cell_type": "markdown",
      "source": [
        "# 6. Type Conversion"
      ],
      "metadata": {
        "id": "BlYNs_wCOAoQ"
      }
    },
    {
      "cell_type": "code",
      "source": [
        "# Implicit Vs Explicit\n",
        "print(5+5.6)\n",
        "print(type(5),type(5.6))\n",
        "\n",
        "?# print(4 + '4')"
      ],
      "metadata": {
        "colab": {
          "base_uri": "https://localhost:8080/"
        },
        "id": "vmt4tSIEODKg",
        "outputId": "e29dd4d1-07fb-4a35-8658-87b8a1970252"
      },
      "execution_count": null,
      "outputs": [
        {
          "output_type": "stream",
          "name": "stdout",
          "text": [
            "10.6\n",
            "<class 'int'> <class 'float'>\n",
            "Object `# print(4 + '4')` not found.\n"
          ]
        }
      ]
    },
    {
      "cell_type": "code",
      "source": [
        "# Explicit\n",
        "# str -> int\n",
        "# int(4+5j)\n",
        "\n",
        "# int to str\n",
        "str(5)\n",
        "\n",
        "# float\n",
        "float(4)"
      ],
      "metadata": {
        "colab": {
          "base_uri": "https://localhost:8080/"
        },
        "id": "7PN7z5CUOPKO",
        "outputId": "f4936b5f-2dcf-441b-f20c-ca7a448c5cd9"
      },
      "execution_count": null,
      "outputs": [
        {
          "output_type": "execute_result",
          "data": {
            "text/plain": [
              "4.0"
            ]
          },
          "metadata": {},
          "execution_count": 21
        }
      ]
    },
    {
      "cell_type": "markdown",
      "source": [
        "# 7. Literals"
      ],
      "metadata": {
        "id": "XWcnffh4OXIL"
      }
    },
    {
      "cell_type": "code",
      "source": [
        "a = 0b1010 #Binary Literals\n",
        "b = 100 #Decimal Literal\n",
        "c = 0o310 #Octal Literal\n",
        "d = 0x12c #Hexadecimal Literal\n",
        "\n",
        "#Float Literal\n",
        "float_1 = 10.5\n",
        "float_2 = 1.5e2 # 1.5 * 10^2\n",
        "float_3 = 1.5e-3 # 1.5 * 10^-3\n",
        "\n",
        "#Complex Literal\n",
        "x = 3.14j\n",
        "\n",
        "print(a, b, c, d)\n",
        "print(float_1, float_2,float_3)\n",
        "print(x, x.imag, x.real)"
      ],
      "metadata": {
        "colab": {
          "base_uri": "https://localhost:8080/"
        },
        "id": "gQ-Ev99AOZ3T",
        "outputId": "0584ff3e-56f7-499b-91c0-cce48adc3cfb"
      },
      "execution_count": null,
      "outputs": [
        {
          "output_type": "stream",
          "name": "stdout",
          "text": [
            "10 100 200 300\n",
            "10.5 150.0 0.0015\n",
            "3.14j 3.14 0.0\n"
          ]
        }
      ]
    },
    {
      "cell_type": "code",
      "source": [
        "string = 'This is Python'\n",
        "strings = \"This is \\nPython\"\n",
        "raw_str = r\"raw \\n string\"\n",
        "\n",
        "print(string)\n",
        "print(strings)\n",
        "print(raw_str)"
      ],
      "metadata": {
        "colab": {
          "base_uri": "https://localhost:8080/"
        },
        "id": "WkGK00K9OoeP",
        "outputId": "13b19395-5d8e-4941-d4ad-eaefd8306925"
      },
      "execution_count": 1,
      "outputs": [
        {
          "output_type": "stream",
          "name": "stdout",
          "text": [
            "This is Python\n",
            "This is \n",
            "Python\n",
            "raw \\n string\n"
          ]
        }
      ]
    },
    {
      "cell_type": "code",
      "source": [
        "a = True + 4\n",
        "b = False + 10\n",
        "\n",
        "print(\"a:\", a)\n",
        "print(\"b:\", b)"
      ],
      "metadata": {
        "colab": {
          "base_uri": "https://localhost:8080/"
        },
        "id": "-b4rCN0QO5Ga",
        "outputId": "57f9f929-4b15-4035-d04f-8cd43fe9cceb"
      },
      "execution_count": null,
      "outputs": [
        {
          "output_type": "stream",
          "name": "stdout",
          "text": [
            "a: 5\n",
            "b: 10\n"
          ]
        }
      ]
    }
  ]
}